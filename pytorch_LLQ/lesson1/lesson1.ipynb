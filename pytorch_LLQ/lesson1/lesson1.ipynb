{
 "cells": [
  {
   "cell_type": "markdown",
   "metadata": {},
   "source": [
    "## GPU加速"
   ]
  },
  {
   "cell_type": "code",
   "execution_count": 8,
   "metadata": {},
   "outputs": [
    {
     "name": "stdout",
     "output_type": "stream",
     "text": [
      "2.0.1+cu118\n",
      "<function is_available at 0x00000253A2F52050>\n",
      "cpu 0.10030174255371094 tensor(141262.0469)\n",
      "cuda:0 0.0050008296966552734 tensor(141405.0781, device='cuda:0')\n",
      "cuda:0 0.0 tensor(141405.0781, device='cuda:0')\n"
     ]
    }
   ],
   "source": [
    "import torch\n",
    "import time\n",
    "\n",
    "print(torch.__version__)\n",
    "print(torch.cuda.is_available)\n",
    "\n",
    "a = torch.randn(10000, 1000)\n",
    "b = torch.randn(1000, 2000)\n",
    "t0 = time.time()\n",
    "c = torch.matmul(a,b)\n",
    "t1 = time.time()\n",
    "print(a.device, t1 - t0, c.norm(2))\n",
    "\n",
    "device = torch.device('cuda')\n",
    "a = a.to(device)\n",
    "b = b.to(device)\n",
    "\n",
    "t0 = time.time()\n",
    "c = torch.matmul(a,b)\n",
    "t2 = time.time()\n",
    "print(a.device, t2 - t0, c.norm(2))\n",
    "\n",
    "\n",
    "t0 = time.time()\n",
    "c = torch.matmul(a,b)\n",
    "t2 = time.time()\n",
    "print(a.device, t2 - t0, c.norm(2))\n"
   ]
  },
  {
   "cell_type": "markdown",
   "metadata": {},
   "source": [
    "## 自动求导"
   ]
  },
  {
   "cell_type": "code",
   "execution_count": 20,
   "metadata": {},
   "outputs": [
    {
     "name": "stdout",
     "output_type": "stream",
     "text": [
      "before: None None None\n",
      "after: (tensor(2.), tensor(1.), tensor(1.))\n"
     ]
    }
   ],
   "source": [
    "from torch import autograd\n",
    "\n",
    "x = torch.tensor(1.,requires_grad=True)\n",
    "a = torch.tensor(1.,requires_grad=True)\n",
    "b = torch.tensor(2.,requires_grad=True)\n",
    "c = torch.tensor(3.,requires_grad=True)\n",
    "\n",
    "y = a**2*x + b*x + c\n",
    "print('before:', a.grad, b.grad, c.grad)\n",
    "grads = autograd.grad(y, [a,b,c])\n",
    "print(\"after:\", grads)"
   ]
  }
 ],
 "metadata": {
  "kernelspec": {
   "display_name": "Python 3",
   "language": "python",
   "name": "python3"
  },
  "language_info": {
   "codemirror_mode": {
    "name": "ipython",
    "version": 3
   },
   "file_extension": ".py",
   "mimetype": "text/x-python",
   "name": "python",
   "nbconvert_exporter": "python",
   "pygments_lexer": "ipython3",
   "version": "3.10.11"
  }
 },
 "nbformat": 4,
 "nbformat_minor": 2
}
